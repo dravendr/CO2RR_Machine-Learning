{
 "cells": [
  {
   "cell_type": "code",
   "execution_count": 6,
   "metadata": {},
   "outputs": [
    {
     "name": "stdout",
     "output_type": "stream",
     "text": [
      "Using matplotlib backend: Qt5Agg\n"
     ]
    }
   ],
   "source": [
    "###########import packages##########\n",
    "import pandas as pd\n",
    "import matplotlib.pyplot as plt\n",
    "import numpy as np\n",
    "import tensorflow as tf \n",
    "import xgboost as xgb\n",
    "from sklearn.model_selection import GridSearchCV\n",
    "from xgboost import plot_importance\n",
    "from xgboost import XGBClassifier\n",
    "from sklearn.model_selection import train_test_split\n",
    "from sklearn.metrics import accuracy_score\n",
    "from sklearn.metrics import classification_report\n",
    "%matplotlib\n",
    "###########loading data##########\n",
    "fdata=pd.read_csv('database_filled.csv',encoding=\"gbk\")\n",
    "raw_data=fdata.loc[:,[                     \n",
    "#                       'Relative Atomic Mass',#0\n",
    "                      'Atomic Number',#1\n",
    "#                       'Ionization Potential',#2\n",
    "#                       'Electronegativity',#3\n",
    "#                       'Number of d electrons',#4\n",
    "                      'ZIF or MOF Derived',#5\n",
    "                      'Hard or Soft Templated',#6\n",
    "                      'Graphene/Carbon Nanosheets or other 2D Structures',#7\n",
    "                      'Polymer Derived',#8\n",
    "                      'Carbon Nanofiber/Nanotubes',#9\n",
    "                      'Carbon Black Derived',#10\n",
    "                      'Biomass or other Organic Derived',#11  \n",
    "                      'Main Transition Metal Content (wt. %)',#12\n",
    "                      'Nitrogen Cotent (wt. %)',#13\n",
    "                      'Metal-N Coordination Number (XAS)',#14    \n",
    "                      'Pyridinic N Ratio',#15\n",
    "                      'Pyrrolic N Ratio',#16\n",
    "                      'Graphitic N Ratio',#17\n",
    "                      'Oxidized N Ratio',#18\n",
    "                      'Raman ID/IG Ratio',#19\n",
    "                      'BET Surface Area (m2/g)',#20\n",
    "                      'Acid Wash',#21\n",
    "                      'Pyrolysis Temperature (°C)',#22\n",
    "                      'Pyrolysis Time (h)',#23\n",
    "                      'Rising Rate (°C min-1)',#24\n",
    "                      'Flow Cell/H-type Cell',#25\n",
    "                      'Electrolyte Concentration (M)',#125\n",
    "                      'Catalyst Loading (mg cm-2)',#26\n",
    "                      'Nafion Membrane Thickness (μm)',#27\n",
    "                      'Carbon Paper/Glassy Carbon',#28\n",
    "                      'Electrode Area cm2',#29\n",
    "                      'Electrolyte pH'#30\n",
    "                        ]]"
   ]
  },
  {
   "cell_type": "code",
   "execution_count": 7,
   "metadata": {},
   "outputs": [
    {
     "name": "stdout",
     "output_type": "stream",
     "text": [
      "<class 'pandas.core.frame.DataFrame'>\n"
     ]
    }
   ],
   "source": [
    "mat=raw_data.corr(method='kendall')#kendall #pearson\n",
    "print(type(mat))"
   ]
  },
  {
   "cell_type": "code",
   "execution_count": 8,
   "metadata": {},
   "outputs": [
    {
     "data": {
      "text/plain": [
       "<matplotlib.axes._subplots.AxesSubplot at 0x24956038248>"
      ]
     },
     "execution_count": 8,
     "metadata": {},
     "output_type": "execute_result"
    }
   ],
   "source": [
    "import seaborn as sns\n",
    "import numpy as np\n",
    "import pandas as pd\n",
    "import matplotlib.pyplot as plt\n",
    "f, ax= plt.subplots(figsize = (14, 10))\n",
    "sns.set(font_scale=0.55)\n",
    "sns.heatmap(mat, \n",
    "                annot=True, vmax=1,vmin = 0, xticklabels= True, yticklabels= True, square=True, cmap=\"gist_heat_r\")"
   ]
  },
  {
   "cell_type": "code",
   "execution_count": 4,
   "metadata": {},
   "outputs": [],
   "source": [
    "chemical_properies=raw_data.iloc[:,0:15]\n",
    "synthesis=raw_data.iloc[:,15:29]"
   ]
  },
  {
   "cell_type": "code",
   "execution_count": 5,
   "metadata": {},
   "outputs": [],
   "source": [
    "CL_78=fdata.loc[:,[                     \n",
    "                      'HW_0.78'\n",
    "]]\n",
    "CL_80=fdata.loc[:,[                     \n",
    "                      'HW_0.8'\n",
    "]]\n",
    "CL_82=fdata.loc[:,[                     \n",
    "                      'HW_0.82'\n",
    "]]\n",
    "CL_003=fdata.loc[:,[                     \n",
    "                      'PYMT_0.03'\n",
    "]]\n",
    "CL_002=fdata.loc[:,[                     \n",
    "                      'PYMT_0.02'\n",
    "]]"
   ]
  },
  {
   "cell_type": "code",
   "execution_count": 6,
   "metadata": {},
   "outputs": [],
   "source": [
    "def summarize(list1):\n",
    "    total=0\n",
    "    for ele in range(0, len(list1)):\n",
    "        total = total + list1[ele]\n",
    "    return total\n",
    "from sklearn.decomposition import PCA"
   ]
  },
  {
   "cell_type": "code",
   "execution_count": 8,
   "metadata": {},
   "outputs": [
    {
     "name": "stdout",
     "output_type": "stream",
     "text": [
      "[6.05282182e-01 3.94716711e-01 5.32575093e-07]\n",
      "[0.76992607 0.17300588 0.05434612]\n",
      "[0.60528218 0.39471671]\n",
      "[0.76992607 0.17300588]\n",
      "0.9999994252365932\n",
      "0.9972780668046493\n",
      "0.9999988926615002\n",
      "0.9429319460635732\n"
     ]
    }
   ],
   "source": [
    "pca_chem_3 = PCA(n_components=3)\n",
    "chem_3 = pca_chem_3.fit_transform(chemical_properies)     \n",
    "print(pca_chem_3.explained_variance_ratio_)\n",
    "\n",
    "pca_synthesis_3 = PCA(n_components=3)\n",
    "synthesis_3 = pca_synthesis_3.fit_transform(synthesis)   \n",
    "print(pca_synthesis_3.explained_variance_ratio_)\n",
    "\n",
    "pca_chem_2 = PCA(n_components=2)\n",
    "chem_2 = pca_chem_2.fit_transform(chemical_properies)     \n",
    "print(pca_chem_2.explained_variance_ratio_)\n",
    "\n",
    "pca_synthesis_2 = PCA(n_components=2)\n",
    "synthesis_2 = pca_synthesis_2.fit_transform(synthesis)   \n",
    "print(pca_synthesis_2.explained_variance_ratio_)\n",
    "\n",
    "\n",
    "\n",
    "\n",
    "print(summarize(pca_chem_3.explained_variance_ratio_))\n",
    "print(summarize(pca_synthesis_3.explained_variance_ratio_))\n",
    "\n",
    "print(summarize(pca_chem_2.explained_variance_ratio_))\n",
    "print(summarize(pca_synthesis_2.explained_variance_ratio_))"
   ]
  },
  {
   "cell_type": "code",
   "execution_count": null,
   "metadata": {},
   "outputs": [],
   "source": [
    "from mpl_toolkits.mplot3d import Axes3D\n",
    "def plot_3d_PCA(dataset,classification_result):\n",
    "    cl=classification_result.values[:,0]\n",
    "    colors = ['red', 'blue']\n",
    "    # 根据主成分分析结果绘制散点图\n",
    "    fig=plt.figure()\n",
    "    ax=Axes3D(fig)\n",
    "    for i in range(len(colors)):\n",
    "        x = dataset[:, 0][cl == i]\n",
    "        y = dataset[:, 1][cl == i]\n",
    "        z = dataset[:, 2][cl == i]\n",
    "        ax.scatter(x,y,z,c=colors[i])\n",
    "        ax.set_zlabel('Third Principal Component')\n",
    "    # 设置图例，0-9用不同颜色表示\n",
    "    plt.legend(np.array([0,1]), bbox_to_anchor=(1.05, 1), loc=2, borderaxespad=0.)\n",
    "    # 设置坐标标签\n",
    "    plt.xlabel('First Principal Component')\n",
    "    plt.ylabel('Second Principal Component')\n",
    "    # 设置标题\n",
    "    plt.title(\"PCA Scatter Plot\")\n",
    "    plt.show()\n",
    "def plot_2d_PCA(dataset,classification_result):\n",
    "    cl=classification_result.values[:,0]\n",
    "    colors = ['red', 'blue']\n",
    "    # 根据主成分分析结果绘制散点图\n",
    "    fig=plt.figure()\n",
    "    for i in range(len(colors)):\n",
    "        x = dataset[:, 0][cl == i]\n",
    "        y = dataset[:, 1][cl == i]\n",
    "        plt.scatter(x,y,c=colors[i])\n",
    "    # 设置图例，0-9用不同颜色表示\n",
    "    plt.legend(np.array([0,1]), bbox_to_anchor=(1.05, 1), loc=2, borderaxespad=0.)\n",
    "    # 设置坐标标签\n",
    "    plt.xlabel('First Principal Component')\n",
    "    plt.ylabel('Second Principal Component')\n",
    "    # 设置标题\n",
    "    plt.title(\"PCA Scatter Plot\")\n",
    "    # 显示图形\n",
    "    plt.show()"
   ]
  },
  {
   "cell_type": "code",
   "execution_count": null,
   "metadata": {},
   "outputs": [],
   "source": [
    "plot_3d_PCA(chem_3,CL_78)\n",
    "plot_3d_PCA(chem_3,CL_80)\n",
    "plot_3d_PCA(chem_3,CL_82)"
   ]
  },
  {
   "cell_type": "code",
   "execution_count": null,
   "metadata": {},
   "outputs": [],
   "source": [
    "plot_3d_PCA(chem_3_r,CL_78)\n",
    "plot_3d_PCA(chem_3_r,CL_80)\n",
    "plot_3d_PCA(chem_3_r,CL_82)"
   ]
  },
  {
   "cell_type": "code",
   "execution_count": null,
   "metadata": {},
   "outputs": [],
   "source": [
    "plot_3d_PCA(synthesis_3,CL_003)\n",
    "plot_3d_PCA(synthesis_3,CL_002)"
   ]
  },
  {
   "cell_type": "code",
   "execution_count": null,
   "metadata": {},
   "outputs": [],
   "source": [
    "plot_3d_PCA(synthesis_3_r,CL_003)\n",
    "plot_3d_PCA(synthesis_3_r,CL_002)"
   ]
  },
  {
   "cell_type": "code",
   "execution_count": null,
   "metadata": {},
   "outputs": [],
   "source": [
    "plot_2d_PCA(chem_3,CL_78)\n",
    "plot_2d_PCA(chem_3,CL_80)\n",
    "plot_2d_PCA(chem_3,CL_82)"
   ]
  },
  {
   "cell_type": "code",
   "execution_count": null,
   "metadata": {},
   "outputs": [],
   "source": [
    "plot_2d_PCA(chem_3_r,CL_78)\n",
    "plot_2d_PCA(chem_3_r,CL_80)\n",
    "plot_2d_PCA(chem_3_r,CL_82)"
   ]
  },
  {
   "cell_type": "code",
   "execution_count": null,
   "metadata": {},
   "outputs": [],
   "source": [
    "plot_2d_PCA(synthesis_3,CL_003)\n",
    "plot_2d_PCA(synthesis_3,CL_002)"
   ]
  },
  {
   "cell_type": "code",
   "execution_count": null,
   "metadata": {},
   "outputs": [],
   "source": [
    "plot_2d_PCA(synthesis_3_r,CL_003)\n",
    "plot_2d_PCA(synthesis_3_r,CL_002)"
   ]
  }
 ],
 "metadata": {
  "kernelspec": {
   "display_name": "Python 3",
   "language": "python",
   "name": "python3"
  },
  "language_info": {
   "codemirror_mode": {
    "name": "ipython",
    "version": 3
   },
   "file_extension": ".py",
   "mimetype": "text/x-python",
   "name": "python",
   "nbconvert_exporter": "python",
   "pygments_lexer": "ipython3",
   "version": "3.7.6"
  }
 },
 "nbformat": 4,
 "nbformat_minor": 4
}
