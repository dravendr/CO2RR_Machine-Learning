{
 "cells": [
  {
   "cell_type": "code",
   "execution_count": 1,
   "metadata": {},
   "outputs": [
    {
     "name": "stderr",
     "output_type": "stream",
     "text": [
      "D:\\anaconda\\lib\\importlib\\_bootstrap.py:219: RuntimeWarning: numpy.ufunc size changed, may indicate binary incompatibility. Expected 192 from C header, got 216 from PyObject\n",
      "  return f(*args, **kwds)\n",
      "D:\\anaconda\\lib\\importlib\\_bootstrap.py:219: RuntimeWarning: numpy.ufunc size changed, may indicate binary incompatibility. Expected 192 from C header, got 216 from PyObject\n",
      "  return f(*args, **kwds)\n",
      "D:\\anaconda\\lib\\importlib\\_bootstrap.py:219: RuntimeWarning: numpy.ndarray size changed, may indicate binary incompatibility. Expected 80 from C header, got 88 from PyObject\n",
      "  return f(*args, **kwds)\n"
     ]
    },
    {
     "name": "stdout",
     "output_type": "stream",
     "text": [
      "Using matplotlib backend: Qt5Agg\n",
      "ready\n"
     ]
    },
    {
     "name": "stderr",
     "output_type": "stream",
     "text": [
      "D:\\anaconda\\lib\\importlib\\_bootstrap.py:219: RuntimeWarning: numpy.ufunc size changed, may indicate binary incompatibility. Expected 192 from C header, got 216 from PyObject\n",
      "  return f(*args, **kwds)\n",
      "numpy.ufunc size changed, may indicate binary incompatibility. Expected 192 from C header, got 216 from PyObject\n"
     ]
    }
   ],
   "source": [
    "###########import packages##########\n",
    "import pandas as pd\n",
    "import matplotlib.pyplot as plt\n",
    "import numpy as np\n",
    "from sklearn.model_selection import GridSearchCV\n",
    "from sklearn.model_selection import train_test_split\n",
    "from sklearn.metrics import accuracy_score\n",
    "from sklearn.metrics import classification_report\n",
    "from sklearn.model_selection import train_test_split\n",
    "from sklearn import ensemble\n",
    "from sklearn import svm\n",
    "from sklearn import neighbors\n",
    "from sklearn import tree\n",
    "from sklearn.linear_model import BayesianRidge\n",
    "from sklearn.tree import ExtraTreeRegressor\n",
    "from sklearn.tree import ExtraTreeClassifier\n",
    "from sklearn import linear_model\n",
    "import lightgbm\n",
    "import catboost\n",
    "import xgboost\n",
    "import shap\n",
    "import seaborn as sns\n",
    "from sklearn.manifold import TSNE\n",
    "from catboost import *\n",
    "%matplotlib\n",
    "###########loading data##########\n",
    "fdata=pd.read_csv('database_filled_MFECD.csv',encoding=\"gbk\")\n",
    "raw_data=fdata.loc[:,[\n",
    "                      'Relative Atomic Mass',#0\n",
    "                      'Atomic Number',#1\n",
    "                      'Ionization Potential',#2\n",
    "                      'Electronegativity',#3\n",
    "                      'Number of d electrons',#4\n",
    "                      'ZIF or MOF Derived',#5\n",
    "                      'Hard or Soft Templated',#6\n",
    "                      'Graphene/Carbon Nanosheets or other 2D Structures',#7\n",
    "                      'Polymer Derived',#8\n",
    "                      'Carbon Nanofiber/Nanotubes',#9\n",
    "                      'Carbon Black Derived',#10\n",
    "                      'Biomass or other Organic Derived',#11  \n",
    "                      'Main Transition Metal Content (wt. %)',#12\n",
    "                      'Nitrogen Cotent (wt. %)',#13\n",
    "                      'Metal-N Coordination Number (XAS)',#14    \n",
    "                      'Pyridinic N Ratio',#15\n",
    "                      'Pyrrolic N Ratio',#16\n",
    "                      'Graphitic N Ratio',#17\n",
    "                      'Oxidized N Ratio',#18\n",
    "                      'Raman ID/IG Ratio',#19\n",
    "                      'BET Surface Area (m2/g)',#20\n",
    "                      'Acid Wash',#21\n",
    "                      'Pyrolysis Temperature (°C)',#22\n",
    "                      'Pyrolysis Time (h)',#23\n",
    "                      'Rising Rate (°C min-1)',#24\n",
    "                      'Flow Cell/H-type Cell',#25\n",
    "                      'Electrolyte Concentration (M)',#26\n",
    "                      'Catalyst Loading (mg cm-2)',#27\n",
    "                      'Nafion Membrane Thickness (μm)',#28\n",
    "                      'Carbon Paper/Glassy Carbon',#29\n",
    "                      'Electrode Area cm2',#30\n",
    "                      'Electrolyte pH',#31\n",
    "                      'CLCD@MFE'#32\n",
    "                        ]]\n",
    "###########train test splitting##########\n",
    "raw_param=raw_data.iloc[:,0:33]\n",
    "print('ready')\n"
   ]
  },
  {
   "cell_type": "code",
   "execution_count": 2,
   "metadata": {},
   "outputs": [],
   "source": [
    "CDMFE_MCL=fdata.loc[:,['CLCD@MFE']]"
   ]
  },
  {
   "cell_type": "code",
   "execution_count": 3,
   "metadata": {},
   "outputs": [],
   "source": [
    "def summarize(list1):\n",
    "    total=0\n",
    "    for ele in range(0, len(list1)):\n",
    "        total = total + list1[ele]\n",
    "    return total\n",
    "from sklearn.decomposition import PCA"
   ]
  },
  {
   "cell_type": "code",
   "execution_count": 32,
   "metadata": {},
   "outputs": [],
   "source": [
    "tsne_3 = TSNE(n_components=3, random_state=0,init='random',learning_rate=500,n_iter=10000,method='exact')\n",
    "chem_3 = tsne_3.fit_transform(raw_param)\n",
    "tsne_2 = TSNE(n_components=2, random_state=0,init='random',learning_rate=500,n_iter=10000,method='exact')\n",
    "chem_2 = tsne_2.fit_transform(raw_param)"
   ]
  },
  {
   "cell_type": "code",
   "execution_count": 33,
   "metadata": {},
   "outputs": [],
   "source": [
    "from mpl_toolkits.mplot3d import Axes3D\n",
    "def plot_3d_TSNE(dataset,classification_result):\n",
    "    cl=classification_result.values[:,0]\n",
    "    colors = ['red', 'blue','green']\n",
    "    # 根据主成分分析结果绘制散点图\n",
    "    fig=plt.figure()\n",
    "    ax=Axes3D(fig)\n",
    "    for i in range(len(colors)):\n",
    "        x = dataset[:, 0][cl == i]\n",
    "        y = dataset[:, 1][cl == i]\n",
    "        z = dataset[:, 2][cl == i]\n",
    "        ax.scatter(x,y,z,c=colors[i])\n",
    "        ax.set_zlabel('Third Principal Component',fontsize='xx-large')\n",
    "    # 设置图例，0-9用不同颜色表示\n",
    "    if max(cl)>1:\n",
    "        plt.legend(np.array([0,1,2]), bbox_to_anchor=(1.05, 1), loc=2, borderaxespad=0.,fontsize='xx-large')\n",
    "    else:\n",
    "        plt.legend(np.array([0,1]), bbox_to_anchor=(1.05, 1), loc=2, borderaxespad=0.,fontsize='xx-large')\n",
    "    # 设置坐标标签\n",
    "    plt.xlabel('First Principal Component',fontsize='xx-large')\n",
    "    plt.ylabel('Second Principal Component',fontsize='xx-large')\n",
    "    # 设置标题\n",
    "    plt.title(\"PCA Scatter Plot 3D\",fontsize='xx-large')\n",
    "    plt.show()\n",
    "def plot_2d_TSNE(dataset,classification_result):\n",
    "    cl=classification_result.values[:,0]\n",
    "    colors = ['red', 'blue','green']\n",
    "    # 根据主成分分析结果绘制散点图\n",
    "    fig=plt.figure()\n",
    "    for i in range(len(colors)):\n",
    "        x = dataset[:, 0][cl == i]\n",
    "        y = dataset[:, 1][cl == i]\n",
    "        plt.scatter(x,y,c=colors[i])\n",
    "    # 设置图例，0-9用不同颜色表示\n",
    "    if max(cl)>1:\n",
    "        plt.legend(np.array([0,1,2]), bbox_to_anchor=(1.05, 1), loc=2, borderaxespad=0.,fontsize='xx-large')\n",
    "    else:\n",
    "        plt.legend(np.array([0,1]), bbox_to_anchor=(1.05, 1), loc=2, borderaxespad=0.,fontsize='xx-large')\n",
    "    # 设置坐标标签\n",
    "    plt.xlabel('First Principal Component',fontsize='xx-large')\n",
    "    plt.ylabel('Second Principal Component',fontsize='xx-large')\n",
    "    # 设置标题\n",
    "    plt.title(\"PCA Scatter Plot 2D\",fontsize='xx-large')\n",
    "    # 显示图形\n",
    "    plt.show()"
   ]
  },
  {
   "cell_type": "code",
   "execution_count": 37,
   "metadata": {},
   "outputs": [
    {
     "name": "stderr",
     "output_type": "stream",
     "text": [
      "Axes3D(fig) adding itself to the figure is deprecated since 3.4. Pass the keyword argument auto_add_to_figure=False and use fig.add_axes(ax) to suppress this warning. The default value of auto_add_to_figure will change to False in mpl3.5 and True values will no longer work in 3.6.  This is consistent with other Axes classes.\n",
      "This figure includes Axes that are not compatible with tight_layout, so results might be incorrect.\n"
     ]
    }
   ],
   "source": [
    "plot_3d_TSNE(chem_3,CDMFE_MCL)"
   ]
  },
  {
   "cell_type": "code",
   "execution_count": 38,
   "metadata": {},
   "outputs": [],
   "source": [
    "plot_2d_TSNE(chem_2,CDMFE_MCL)"
   ]
  },
  {
   "cell_type": "code",
   "execution_count": null,
   "metadata": {},
   "outputs": [],
   "source": []
  }
 ],
 "metadata": {
  "kernelspec": {
   "display_name": "Python 3",
   "language": "python",
   "name": "python3"
  },
  "language_info": {
   "codemirror_mode": {
    "name": "ipython",
    "version": 3
   },
   "file_extension": ".py",
   "mimetype": "text/x-python",
   "name": "python",
   "nbconvert_exporter": "python",
   "pygments_lexer": "ipython3",
   "version": "3.7.6"
  }
 },
 "nbformat": 4,
 "nbformat_minor": 4
}
