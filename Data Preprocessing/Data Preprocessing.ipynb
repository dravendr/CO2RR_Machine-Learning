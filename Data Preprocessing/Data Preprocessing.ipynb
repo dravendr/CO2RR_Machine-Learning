{
 "cells": [
  {
   "cell_type": "code",
   "execution_count": 1,
   "metadata": {},
   "outputs": [
    {
     "name": "stderr",
     "output_type": "stream",
     "text": [
      "D:\\anaconda\\lib\\site-packages\\sklearn\\impute\\_iterative.py:638: ConvergenceWarning: [IterativeImputer] Early stopping criterion not reached.\n",
      "  \" reached.\", ConvergenceWarning)\n"
     ]
    }
   ],
   "source": [
    "###########import packages##########\n",
    "import pandas as pd\n",
    "import matplotlib.pyplot as plt\n",
    "import numpy as np\n",
    "import catboost\n",
    "import lightgbm\n",
    "from catboost import CatBoostRegressor\n",
    "from sklearn.ensemble import RandomForestRegressor\n",
    "from sklearn.model_selection import GridSearchCV\n",
    "from xgboost import plot_importance\n",
    "from xgboost import XGBClassifier,XGBRegressor\n",
    "from sklearn.model_selection import train_test_split\n",
    "from sklearn.metrics import accuracy_score\n",
    "from sklearn.metrics import classification_report\n",
    "from sklearn import ensemble\n",
    "from sklearn.tree import ExtraTreeRegressor\n",
    "from sklearn import svm\n",
    "from sklearn import neighbors\n",
    "from sklearn import tree\n",
    "from sklearn.impute import SimpleImputer\n",
    "from fancyimpute import KNN,IterativeImputer\n",
    "%matplotlib inline\n",
    "###########loading data##########\n",
    "fdata=pd.read_csv('unfilled database.csv',encoding=\"gbk\")\n",
    "raw_data=fdata.loc[:,[\n",
    "                      'Relative Atomic Mass',#0\n",
    "                      'Atomic Number',#1\n",
    "                      'Ionization Potential',#2\n",
    "                      'Electronegativity',#3\n",
    "                      'Number of d electrons',#4\n",
    "                      'ZIF or MOF Derived',#5\n",
    "                      'Hard or Soft Templated',#6\n",
    "                      'Graphene/Carbon Nanosheets or other 2D Structures',#7\n",
    "                      'Polymer Derived',#8\n",
    "                      'Carbon Nanofiber/Nanotubes',#9\n",
    "                      'Carbon Black Derived',#10\n",
    "                      'Biomass or other Organic Derived',#11  \n",
    "                      'Main Transition Metal Content (wt. %)',#12\n",
    "                      'Nitrogen Cotent (wt. %)',#13\n",
    "                      'Metal-N Coordination Number (XAS)',#14    \n",
    "                      'Pyridinic N Ratio',#15\n",
    "                      'Pyrrolic N Ratio',#16\n",
    "                      'Graphitic N Ratio',#17\n",
    "                      'Oxidized N Ratio',#18\n",
    "                      'Raman ID/IG Ratio',#19\n",
    "                      'BET Surface Area (m2/g)',#20\n",
    "                      'Acid Wash',#21\n",
    "                      'Pyrolysis Temperature (°C)',#22\n",
    "                      'Pyrolysis Time (h)',#23\n",
    "                      'Rising Rate (°C min-1)',#24\n",
    "                      'Flow Cell/H-type Cell',#25\n",
    "                      'Electrolyte Concentration (M)',#125\n",
    "                      'Catalyst Loading (mg cm-2)',#26\n",
    "                      'Nafion Membrane Thickness (μm)',#27\n",
    "                      'Carbon Paper/Glassy Carbon',#28\n",
    "                      'Electrode Area cm2',#29\n",
    "                      'Electrolyte pH'#30\n",
    "                        ]]\n",
    "\n",
    "filled = IterativeImputer(estimator=CatBoostRegressor(n_estimators=800,verbose=0),initial_strategy='median',max_iter=500, tol=0.001).fit_transform(raw_data)\n",
    "df_filled=pd.DataFrame(filled)\n",
    "\n",
    "df_filled.to_csv('C:\\\\Users\\\\Administratro\\\\code co2new\\\\Data Preprocessing\\\\iterativeimputer_filled.csv',index=False,header=False)"
   ]
  },
  {
   "cell_type": "code",
   "execution_count": null,
   "metadata": {},
   "outputs": [],
   "source": []
  }
 ],
 "metadata": {
  "kernelspec": {
   "display_name": "Python 3",
   "language": "python",
   "name": "python3"
  },
  "language_info": {
   "codemirror_mode": {
    "name": "ipython",
    "version": 3
   },
   "file_extension": ".py",
   "mimetype": "text/x-python",
   "name": "python",
   "nbconvert_exporter": "python",
   "pygments_lexer": "ipython3",
   "version": "3.7.6"
  }
 },
 "nbformat": 4,
 "nbformat_minor": 4
}
